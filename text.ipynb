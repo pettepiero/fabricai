{
 "cells": [
  {
   "cell_type": "code",
   "execution_count": 81,
   "metadata": {},
   "outputs": [
    {
     "name": "stderr",
     "output_type": "stream",
     "text": [
      "[nltk_data] Downloading package averaged_perceptron_tagger to\n",
      "[nltk_data]     /home/pettepiero/nltk_data...\n",
      "[nltk_data]   Package averaged_perceptron_tagger is already up-to-\n",
      "[nltk_data]       date!\n"
     ]
    },
    {
     "data": {
      "text/plain": [
       "True"
      ]
     },
     "execution_count": 81,
     "metadata": {},
     "output_type": "execute_result"
    }
   ],
   "source": [
    "from sdmigeapi import client\n",
    "import random\n",
    "import nltk\n",
    "from nltk.tokenize import word_tokenize, sent_tokenize\n",
    "nltk.download('averaged_perceptron_tagger')"
   ]
  },
  {
   "cell_type": "markdown",
   "metadata": {},
   "source": [
    "## Initialization of lists"
   ]
  },
  {
   "cell_type": "code",
   "execution_count": 82,
   "metadata": {},
   "outputs": [],
   "source": [
    "item_list = [\n",
    "    \"dress\",\n",
    "    \"shirt\",\n",
    "    \"pants\",\n",
    "    \"shorts\",\n",
    "    \"skirt\",\n",
    "    \"jacket\",\n",
    "    \"coat\",\n",
    "    \"sweater\",\n",
    "    \"blouse\",\n",
    "    \"suit\",\n",
    "    \"tie\",\n",
    "    \"blazer\",\n",
    "    \"vest\",\n",
    "    \"top\",\n",
    "    \"jeans\",\n",
    "    \"leggings\",\n",
    "    \"hoodie\",\n",
    "    \"t-shirt\",\n",
    "    \"cardigan\",\n",
    "    \"romper\",\n",
    "    \"jumpsuit\",\n",
    "    \"scarf\",\n",
    "    \"hat\",\n",
    "    \"gloves\",\n",
    "    \"boots\",\n",
    "    \"heels\",\n",
    "    \"sandals\",\n",
    "    \"sneakers\",\n",
    "    \"flats\",\n",
    "]\n",
    "size_list = [\n",
    "    \"short\",\n",
    "    \"long\",\n",
    "    \"medium\",\n",
    "    \"mini\",\n",
    "    \"maxi\",\n",
    "    \"midi\",\n",
    "    \"knee-length\",\n",
    "    \"ankle-length\",\n",
    "    \"floor-length\",\n",
    "    \"petite\",\n",
    "    \"tall\",\n",
    "    \"regular\",\n",
    "    \"plus-size\",\n",
    "    \"slim-fit\",\n",
    "    \"loose-fit\",\n",
    "    \"skinny-fit\",\n",
    "    \"wide-leg\",\n",
    "    \"straight-leg\",\n",
    "    \"bootcut\",\n",
    "    \"cropped\",\n",
    "    \"oversized\",\n",
    "    \"fitted\",\n",
    "    \"tailored\",\n",
    "    \"athletic\",\n",
    "    \"relaxed\",\n",
    "    \"flowy\",\n",
    "    \"baggy\",\n",
    "    \"form-fitting\",\n",
    "    \"empire-waist\",\n",
    "]\n",
    "color_list = [\n",
    "    \"red\",\n",
    "    \"blue\",\n",
    "    \"green\",\n",
    "    \"yellow\",\n",
    "    \"orange\",\n",
    "    \"purple\",\n",
    "    \"pink\",\n",
    "    \"black\",\n",
    "    \"white\",\n",
    "    \"brown\",\n",
    "    \"gray\",\n",
    "    \"beige\",\n",
    "    \"navy\",\n",
    "    \"teal\",\n",
    "    \"burgundy\",\n",
    "    \"olive\",\n",
    "    \"cream\",\n",
    "    \"silver\",\n",
    "    \"gold\",\n",
    "    \"taupe\",\n",
    "    \"charcoal\",\n",
    "    \"maroon\",\n",
    "    \"khaki\",\n",
    "    \"turquoise\",\n",
    "    \"mustard\",\n",
    "    \"lavender\",\n",
    "    \"coral\",\n",
    "    \"mint\",\n",
    "    \"ruby\",\n",
    "    \"indigo\",\n",
    "]\n",
    "sex_list = [\n",
    "    \"man\",\n",
    "    \"woman\",\n",
    "    \"boy\",\n",
    "    \"girl\",\n",
    "    \"male\",\n",
    "    \"female\",\n",
    "    \"gentleman\",\n",
    "    \"lady\",\n",
    "    \"guy\",\n",
    "    \"gal\",\n",
    "    \"gent\",\n",
    "    \"lass\",\n",
    "    \"dude\",\n",
    "    \"chick\",\n",
    "    \"fellow\",\n",
    "    \"lassie\",\n",
    "    \"lad\",\n",
    "    \"miss\",\n",
    "    \"mister\",\n",
    "    \"ms\",\n",
    "    \"mr\",\n",
    "]\n",
    "material_list = [\n",
    "    \"silk\",\n",
    "    \"cotton\",\n",
    "    \"wool\",\n",
    "    \"leather\",\n",
    "    \"linen\",\n",
    "    \"denim\",\n",
    "    \"satin\",\n",
    "    \"velvet\",\n",
    "    \"lace\",\n",
    "    \"polyester\",\n",
    "    \"cashmere\",\n",
    "    \"chiffon\",\n",
    "    \"rayon\",\n",
    "    \"spandex\",\n",
    "    \"suede\",\n",
    "    \"twill\",\n",
    "    \"corduroy\",\n",
    "    \"organza\",\n",
    "    \"tulle\",\n",
    "    \"viscose\",\n",
    "    \"modal\",\n",
    "    \"bamboo\",\n",
    "    \"acrylic\",\n",
    "    \"nylon\",\n",
    "    \"fleece\",\n",
    "    \"fur\",\n",
    "    \"faux leather\",\n",
    "    \"canvas\",\n",
    "    \"satin\",\n",
    "    \"silk-blend\",\n",
    "]\n",
    "fit_list = [\n",
    "    \"loose\",\n",
    "    \"slim\",\n",
    "    \"tight\",\n",
    "    \"baggy\",\n",
    "    \"fitted\",\n",
    "    \"flowy\",\n",
    "    \"form-fitting\",\n",
    "    \"a-line\",\n",
    "    \"skinny\",\n",
    "    \"wide-leg\",\n",
    "    \"bell-bottom\",\n",
    "    \"empire\",\n",
    "    \"peplum\",\n",
    "    \"tailored\",\n",
    "    \"crop\",\n",
    "    \"oversized\",\n",
    "    \"athletic\",\n",
    "    \"relaxed\",\n",
    "    \"balloon\",\n",
    "    \"flared\",\n",
    "    \"bootcut\",\n",
    "    \"capri\",\n",
    "    \"harem\",\n",
    "    \"jeggings\",\n",
    "    \"cargo\",\n",
    "    \"draped\",\n",
    "    \"wrap\",\n",
    "    \"high-waisted\",\n",
    "    \"low-rise\",\n",
    "    \"mid-rise\",\n",
    "    \"drop-crotch\",\n",
    "    \"pleated\",\n",
    "]\n",
    "style_list = [\n",
    "    \"classic\",\n",
    "    \"casual\",\n",
    "    \"elegant\",\n",
    "    \"bohemian\",\n",
    "    \"vintage\",\n",
    "    \"gothic\",\n",
    "    \"preppy\",\n",
    "    \"retro\",\n",
    "    \"sporty\",\n",
    "    \"chic\",\n",
    "    \"edgy\",\n",
    "    \"minimalist\",\n",
    "    \"romantic\",\n",
    "    \"urban\",\n",
    "    \"glamorous\",\n",
    "    \"artsy\",\n",
    "    \"modern\",\n",
    "    \"sophisticated\",\n",
    "    \"eclectic\",\n",
    "    \"feminine\",\n",
    "    \"masculine\",\n",
    "    \"formal\",\n",
    "    \"business casual\",\n",
    "    \"streetwear\",\n",
    "    \"hipster\",\n",
    "    \"tomboy\",\n",
    "    \"punk\",\n",
    "    \"rock\",\n",
    "    \"country\",\n",
    "    \"boho\",\n",
    "    \"nautical\",\n",
    "]\n",
    "\n",
    "events_list = [\n",
    "    \"formal\",\n",
    "    \"casual\",\n",
    "    \"business\",\n",
    "    \"cocktail\",\n",
    "    \"party\",\n",
    "    \"beach\",\n",
    "    \"wedding\",\n",
    "    \"club\",\n",
    "    \"prom\",\n",
    "    \"birthday\",\n",
    "    \"graduation\",\n",
    "    \"concert\",\n",
    "    \"picnic\",\n",
    "    \"barbecue\",\n",
    "    \"date\",\n",
    "    \"interview\",\n",
    "    \"meeting\",\n",
    "    \"gala\",\n",
    "    \"festival\",\n",
    "    \"conference\",\n",
    "    \"seminar\",\n",
    "    \"workshop\",\n",
    "    \"exhibition\",\n",
    "    \"trade show\",\n",
    "    \"fashion show\",\n",
    "    \"award ceremony\",\n",
    "    \"charity event\",\n",
    "    \"fundraiser\",\n",
    "    \"party\",\n",
    "]\n",
    "pattern_list = [\n",
    "    \"stripes\",\n",
    "    \"plaid\",\n",
    "    \"floral\",\n",
    "    \"polka dot\",\n",
    "    \"geometric\",\n",
    "    \"animal print\",\n",
    "    \"tie-dye\",\n",
    "    \"checkered\",\n",
    "    \"houndstooth\",\n",
    "    \"paisley\",\n",
    "    \"tartan\",\n",
    "    \"camouflage\",\n",
    "    \"abstract\",\n",
    "    \"chevron\",\n",
    "    \"gingham\",\n",
    "    \"ikat\",\n",
    "    \"marble\",\n",
    "    \"ombre\",\n",
    "    \"patchwork\",\n",
    "    \"tribal\",\n",
    "    \"zigzag\",\n",
    "    \"argyle\",\n",
    "    \"damask\",\n",
    "    \"brocade\",\n",
    "    \"herringbone\",\n",
    "    \"jacquard\",\n",
    "    \"lace\",\n",
    "    \"mesh\",\n",
    "    \"seersucker\",\n",
    "]\n",
    "\n",
    "\n",
    "fields_names = [\n",
    "    \"item\",\n",
    "    \"size\",\n",
    "    \"color\",\n",
    "    \"sex\",\n",
    "    \"fit\",\n",
    "    \"material\",\n",
    "    \"pattern\",\n",
    "    \"event\",\n",
    "    \"style\",\n",
    "]"
   ]
  },
  {
   "cell_type": "markdown",
   "metadata": {},
   "source": [
    "### User input dictionary"
   ]
  },
  {
   "cell_type": "code",
   "execution_count": 83,
   "metadata": {},
   "outputs": [
    {
     "name": "stdout",
     "output_type": "stream",
     "text": [
      "{'item': 'none', 'size': 'none', 'color': 'none', 'sex': 'none', 'fit': 'none', 'material': 'none', 'pattern': 'none', 'event': 'none', 'style': 'none'}\n"
     ]
    }
   ],
   "source": [
    "user_dict = {field: \"none\" for field in fields_names}\n",
    "print(user_dict)"
   ]
  },
  {
   "cell_type": "markdown",
   "metadata": {},
   "source": [
    "### Dictionary that is used for sampling alternatives"
   ]
  },
  {
   "cell_type": "code",
   "execution_count": 84,
   "metadata": {},
   "outputs": [],
   "source": [
    "sampling_dict = { \"item\": item_list,\n",
    "                  \"size\": size_list,\n",
    "                  \"color\": color_list, \n",
    "                  \"sex\": sex_list, \n",
    "                  \"fit\": fit_list, \n",
    "                  \"material\": material_list, \n",
    "                  \"pattern\": pattern_list, \n",
    "                  \"event\": events_list, \n",
    "                  \"style\": style_list}"
   ]
  },
  {
   "cell_type": "markdown",
   "metadata": {},
   "source": [
    "## Obtain a sentence from the user"
   ]
  },
  {
   "cell_type": "code",
   "execution_count": 85,
   "metadata": {},
   "outputs": [],
   "source": [
    "sentence = \"A long silk dress for a beach party.\""
   ]
  },
  {
   "cell_type": "markdown",
   "metadata": {},
   "source": [
    "## Interrogating the LLM to understand if the user's input is valid\n"
   ]
  },
  {
   "cell_type": "code",
   "execution_count": 86,
   "metadata": {},
   "outputs": [],
   "source": [
    "# text = client.generate_text(\n",
    "#     f'Is the following sentence about clothes?\\n {sentence}\\n\\\n",
    "#     For example: \"Create a long dress for a formal dinner.\" \\nAnswer: yes',\n",
    "#     max_length=200,\n",
    "#     timeout=300,\n",
    "# )\n",
    "# print(text)"
   ]
  },
  {
   "cell_type": "markdown",
   "metadata": {},
   "source": [
    "### If input is not valid"
   ]
  },
  {
   "cell_type": "code",
   "execution_count": 87,
   "metadata": {},
   "outputs": [],
   "source": [
    "# print(\"Error: user input is not about clothes\")"
   ]
  },
  {
   "cell_type": "markdown",
   "metadata": {},
   "source": [
    "## Understand what fields have been inserted by the user\n",
    "<ol>\n",
    "    <li>Split into tokens</li>\n",
    "    <li>Check if tokens are present in some of the categories, looping each data fields</li>\n",
    "</ol>"
   ]
  },
  {
   "cell_type": "code",
   "execution_count": 88,
   "metadata": {},
   "outputs": [],
   "source": [
    "tokens = word_tokenize(sentence)\n",
    "tagged_tokens = nltk.pos_tag(tokens)"
   ]
  },
  {
   "cell_type": "code",
   "execution_count": 89,
   "metadata": {},
   "outputs": [],
   "source": [
    "adjectives = [word for word, pos in tagged_tokens if pos.startswith(\"JJ\")]\n",
    "names  = [word for word, pos in tagged_tokens if pos.startswith(\"NN\")]"
   ]
  },
  {
   "cell_type": "markdown",
   "metadata": {},
   "source": [
    "### Searching for item information"
   ]
  },
  {
   "cell_type": "code",
   "execution_count": 90,
   "metadata": {},
   "outputs": [],
   "source": [
    "def get_user_choices(tokens: list, user_dict: dict):\n",
    "    for field in user_dict.keys():\n",
    "        for token in tokens:\n",
    "            if token in sampling_dict[field]:\n",
    "                user_dict[field] = token\n"
   ]
  },
  {
   "cell_type": "code",
   "execution_count": 91,
   "metadata": {},
   "outputs": [
    {
     "name": "stdout",
     "output_type": "stream",
     "text": [
      "{'item': 'none', 'size': 'none', 'color': 'none', 'sex': 'none', 'fit': 'none', 'material': 'none', 'pattern': 'none', 'event': 'none', 'style': 'none'}\n"
     ]
    }
   ],
   "source": [
    "print(user_dict)"
   ]
  },
  {
   "cell_type": "code",
   "execution_count": 92,
   "metadata": {},
   "outputs": [
    {
     "name": "stdout",
     "output_type": "stream",
     "text": [
      "{'item': 'dress', 'size': 'long', 'color': 'none', 'sex': 'none', 'fit': 'none', 'material': 'silk', 'pattern': 'none', 'event': 'party', 'style': 'none'}\n"
     ]
    }
   ],
   "source": [
    "get_user_choices(tokens, user_dict)\n",
    "print(user_dict)"
   ]
  },
  {
   "cell_type": "code",
   "execution_count": 93,
   "metadata": {},
   "outputs": [],
   "source": [
    "# user_dict[\"item\"] = [item for item in item_list if item in names]\n",
    "# user_dict[\"length\"] = [size for size in size_list if size in adjectives]\n",
    "# user_dict[\"color\"] = [color for color in color_list if color in adjectives]\n",
    "# user_dict[\"material\"] = [\n",
    "#     material for material in material_list if material in adjectives\n",
    "# ]\n",
    "# user_dict[\"event\"] = [event for event in events_list if event in tokens]"
   ]
  },
  {
   "cell_type": "code",
   "execution_count": 94,
   "metadata": {},
   "outputs": [],
   "source": [
    "def get_missing_fields(fields_dict: dict):\n",
    "    missing_fields = []\n",
    "    for field, value in fields_dict.items():\n",
    "        if len(value) == 0 or value == \"none\":\n",
    "            missing_fields.append(field)\n",
    "    return missing_fields\n",
    "\n",
    "def get_missing_fields_txt(fields_dict: dict):\n",
    "    missing_fields = get_missing_fields(fields_dict)\n",
    "    if len(missing_fields) == 0:\n",
    "        return \"All fields are filled.\"\n",
    "    else:\n",
    "        return \"Missing fields: \" + \", \".join(missing_fields)"
   ]
  },
  {
   "cell_type": "code",
   "execution_count": 95,
   "metadata": {},
   "outputs": [],
   "source": [
    "def get_chosen_fields(fields_dict: dict):\n",
    "    chosen_fields = []\n",
    "    for field, value in fields_dict.items():\n",
    "        if value != \"none\":\n",
    "            chosen_fields.append((field, value))\n",
    "    return chosen_fields\n",
    "\n",
    "def get_chosen_fields_txt(fields_dict: dict):\n",
    "    chosen_fields = get_chosen_fields(fields_dict)\n",
    "    if len(chosen_fields) == 0:\n",
    "        return \"No fields are filled.\"\n",
    "    else:\n",
    "        return \"Chosen fields: \" + \", \".join([f\"{field}: {value}\" for field, value in chosen_fields])"
   ]
  },
  {
   "cell_type": "code",
   "execution_count": 96,
   "metadata": {},
   "outputs": [
    {
     "name": "stdout",
     "output_type": "stream",
     "text": [
      "['color', 'sex', 'fit', 'pattern', 'style']\n"
     ]
    }
   ],
   "source": [
    "print(get_missing_fields(user_dict))"
   ]
  },
  {
   "cell_type": "code",
   "execution_count": 97,
   "metadata": {},
   "outputs": [
    {
     "data": {
      "text/plain": [
       "'Missing fields: color, sex, fit, pattern, style'"
      ]
     },
     "execution_count": 97,
     "metadata": {},
     "output_type": "execute_result"
    }
   ],
   "source": [
    "get_missing_fields_txt(user_dict)"
   ]
  },
  {
   "cell_type": "code",
   "execution_count": 98,
   "metadata": {},
   "outputs": [
    {
     "data": {
      "text/plain": [
       "'Chosen fields: item: dress, size: long, material: silk, event: party'"
      ]
     },
     "execution_count": 98,
     "metadata": {},
     "output_type": "execute_result"
    }
   ],
   "source": [
    "get_chosen_fields_txt(user_dict)"
   ]
  },
  {
   "cell_type": "code",
   "execution_count": 99,
   "metadata": {},
   "outputs": [],
   "source": [
    "def get_examples_for_field(field_name: str):\n",
    "    if field_name not in fields_names:\n",
    "        print(f\"Error: field \\\"{field_name}\\\" does not exist.\")\n",
    "        return []\n",
    "    else:\n",
    "        return random.choice(sampling_dict[field_name])"
   ]
  },
  {
   "cell_type": "markdown",
   "metadata": {},
   "source": [
    "## Returning list of missing elements and example for each element"
   ]
  },
  {
   "cell_type": "code",
   "execution_count": 100,
   "metadata": {},
   "outputs": [
    {
     "name": "stdout",
     "output_type": "stream",
     "text": [
      "Missing fields: [examples]\n",
      "color: [lavender]\n",
      "sex: [lass]\n",
      "fit: [slim]\n",
      "pattern: [polka dot]\n",
      "style: [gothic]\n"
     ]
    }
   ],
   "source": [
    "missing_fields = get_missing_fields(user_dict)\n",
    "print(\"Missing fields: [examples]\")\n",
    "for field in missing_fields:\n",
    "    print(f\"{field}: [{get_examples_for_field(field)}]\")\n",
    "\n"
   ]
  },
  {
   "cell_type": "code",
   "execution_count": null,
   "metadata": {},
   "outputs": [],
   "source": []
  }
 ],
 "metadata": {
  "kernelspec": {
   "display_name": "base",
   "language": "python",
   "name": "python3"
  },
  "language_info": {
   "codemirror_mode": {
    "name": "ipython",
    "version": 3
   },
   "file_extension": ".py",
   "mimetype": "text/x-python",
   "name": "python",
   "nbconvert_exporter": "python",
   "pygments_lexer": "ipython3",
   "version": "3.10.13"
  }
 },
 "nbformat": 4,
 "nbformat_minor": 2
}
